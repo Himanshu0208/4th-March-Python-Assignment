{
 "cells": [
  {
   "cell_type": "code",
   "execution_count": 2,
   "id": "d091b24b-1460-4b10-88d1-a9c59fe0bf0f",
   "metadata": {},
   "outputs": [
    {
     "name": "stdout",
     "output_type": "stream",
     "text": [
      "Collecting plotly\n",
      "  Downloading plotly-5.13.1-py2.py3-none-any.whl (15.2 MB)\n",
      "\u001b[2K     \u001b[90m━━━━━━━━━━━━━━━━━━━━━━━━━━━━━━━━━━━━━━━━\u001b[0m \u001b[32m15.2/15.2 MB\u001b[0m \u001b[31m22.6 MB/s\u001b[0m eta \u001b[36m0:00:00\u001b[0m00:01\u001b[0m00:01\u001b[0m\n",
      "\u001b[?25hCollecting tenacity>=6.2.0\n",
      "  Downloading tenacity-8.2.2-py3-none-any.whl (24 kB)\n",
      "Installing collected packages: tenacity, plotly\n",
      "Successfully installed plotly-5.13.1 tenacity-8.2.2\n",
      "Note: you may need to restart the kernel to use updated packages.\n"
     ]
    }
   ],
   "source": [
    "pip install plotly"
   ]
  },
  {
   "cell_type": "code",
   "execution_count": 27,
   "id": "1525b60b-b7ce-424e-9a77-ac6dbfd039cf",
   "metadata": {},
   "outputs": [
    {
     "name": "stdout",
     "output_type": "stream",
     "text": [
      "Collecting kaleido\n",
      "  Downloading kaleido-0.2.1-py2.py3-none-manylinux1_x86_64.whl (79.9 MB)\n",
      "\u001b[2K     \u001b[90m━━━━━━━━━━━━━━━━━━━━━━━━━━━━━━━━━━━━━━━━\u001b[0m \u001b[32m79.9/79.9 MB\u001b[0m \u001b[31m16.5 MB/s\u001b[0m eta \u001b[36m0:00:00\u001b[0m00:01\u001b[0m00:01\u001b[0m\n",
      "\u001b[?25hInstalling collected packages: kaleido\n",
      "Successfully installed kaleido-0.2.1\n",
      "Note: you may need to restart the kernel to use updated packages.\n"
     ]
    }
   ],
   "source": [
    "pip install -U kaleido"
   ]
  },
  {
   "cell_type": "code",
   "execution_count": 2,
   "id": "bc30c8d6-f74d-4cae-9f36-422c56ceffb3",
   "metadata": {},
   "outputs": [],
   "source": [
    "import plotly.express as px\n",
    "import seaborn as sns\n",
    "import plotly.graph_objects as go"
   ]
  },
  {
   "cell_type": "markdown",
   "id": "b0384b02-21f1-4f15-af42-7dd5a54046b4",
   "metadata": {},
   "source": [
    "# __Ques 1__"
   ]
  },
  {
   "cell_type": "code",
   "execution_count": 3,
   "id": "df9c4298-dbdf-4be4-bdbe-9455bfa5117a",
   "metadata": {},
   "outputs": [],
   "source": [
    "titanic = sns.load_dataset('titanic')"
   ]
  },
  {
   "cell_type": "code",
   "execution_count": 4,
   "id": "d26e7e51-afa3-45c5-98e4-e1236a7b83ce",
   "metadata": {},
   "outputs": [],
   "source": [
    "fig = px.scatter(titanic , x=\"age\" , y=\"fare\")"
   ]
  },
  {
   "cell_type": "code",
   "execution_count": 7,
   "id": "80b92a10-1f76-42e0-aa7c-b53d2733e88d",
   "metadata": {},
   "outputs": [],
   "source": [
    "fig.write_image('ques1.png')"
   ]
  },
  {
   "cell_type": "markdown",
   "id": "6086b803-2d29-498d-b9be-c1e794b2cb68",
   "metadata": {},
   "source": [
    "<img src=\"ques1.png\" alt=\"ques1.png\">"
   ]
  },
  {
   "cell_type": "markdown",
   "id": "458eef3f-2f84-4562-a3cd-fb484d439db1",
   "metadata": {},
   "source": [
    "# __Ques 2__"
   ]
  },
  {
   "cell_type": "code",
   "execution_count": 8,
   "id": "12d71810-2a86-4dd1-a57c-da55f69a0ec0",
   "metadata": {},
   "outputs": [],
   "source": [
    "tips = sns.load_dataset('tips')"
   ]
  },
  {
   "cell_type": "code",
   "execution_count": 12,
   "id": "1e8ca137-05a9-4070-8140-4053459da922",
   "metadata": {},
   "outputs": [],
   "source": [
    "fig2 = px.box(tips,x=\"day\" , y=\"tip\")"
   ]
  },
  {
   "cell_type": "code",
   "execution_count": 14,
   "id": "3997ba31-f8a5-40e6-90fa-138066ad8c1e",
   "metadata": {},
   "outputs": [],
   "source": [
    "fig2.write_image('ques2.png')"
   ]
  },
  {
   "cell_type": "markdown",
   "id": "a4190638-084a-43e4-9cf8-51159a061b0a",
   "metadata": {},
   "source": [
    "<img src=\"ques2.png\" alt=\"ques2.png\">"
   ]
  },
  {
   "cell_type": "markdown",
   "id": "aebe22c1-1bf1-4032-9cff-212d0deee3fb",
   "metadata": {},
   "source": [
    "# __Ques 3__"
   ]
  },
  {
   "cell_type": "code",
   "execution_count": 15,
   "id": "abe48bf4-6084-44a8-b299-268384eaf478",
   "metadata": {},
   "outputs": [],
   "source": [
    "fig3 = px.histogram(tips , x=\"sex\" , y=\"total_bill\" , pattern_shape=\"smoker\" , color=\"day\")"
   ]
  },
  {
   "cell_type": "code",
   "execution_count": 16,
   "id": "de5ad8dd-bf29-4d2e-b598-039805407986",
   "metadata": {},
   "outputs": [],
   "source": [
    "fig3.write_image('ques3.png')"
   ]
  },
  {
   "cell_type": "markdown",
   "id": "ef3fac80-e806-4236-b5de-bb1c55a173d6",
   "metadata": {},
   "source": [
    "<img src=\"ques3.png\" alt=\"ques3.png\">"
   ]
  },
  {
   "cell_type": "markdown",
   "id": "998f9d0e-4e02-4ffe-8406-5b273e55be99",
   "metadata": {},
   "source": [
    "# __Ques 4__"
   ]
  },
  {
   "cell_type": "code",
   "execution_count": 17,
   "id": "1526b504-a4ac-48e2-92ad-3f0cc0f77106",
   "metadata": {},
   "outputs": [],
   "source": [
    "iris = sns.load_dataset('iris')"
   ]
  },
  {
   "cell_type": "code",
   "execution_count": 21,
   "id": "ee7b967e-701b-4b7e-ac51-55d5f81ef15c",
   "metadata": {},
   "outputs": [],
   "source": [
    "fig4 = px.scatter_matrix(iris , color=\"species\")"
   ]
  },
  {
   "cell_type": "code",
   "execution_count": 23,
   "id": "c64713d8-a286-4b75-975c-323abc72fefb",
   "metadata": {},
   "outputs": [],
   "source": [
    "fig4.write_image('ques4.png' , scale=2.0)"
   ]
  },
  {
   "cell_type": "markdown",
   "id": "51f1572a-f801-45c1-9712-47a1bb9994eb",
   "metadata": {},
   "source": [
    "<img src=\"ques4.png\" alt=\"ques4.png\">"
   ]
  },
  {
   "cell_type": "markdown",
   "id": "30a39d75-ee38-4ca2-a535-a8a0bd95f431",
   "metadata": {},
   "source": [
    "# __Ques 5__\n",
    "Distplot is a function in the seaborn visualization library that allows you to visualize the distribution of a univariate set of observations (i.e., a single variable). It combines the histogram and kernel density estimate (KDE) plots into a single visualization.<br>\n",
    "The resulting plot shows the distribution of the data as a histogram, with the density estimate overlaid on top. The density estimate is a non-parametric way to estimate the probability density function (PDF) of the variable. In other words, it provides a smoothed estimate of the underlying distribution of the variable.<br><br>\n",
    "In Plotly, the equivalent function to Seaborn's distplot is histogram. The histogram function allows you to create histograms of one or more variables in your data, with options to customize the bin size and opacity, and overlay different histograms on the same plot."
   ]
  },
  {
   "cell_type": "code",
   "execution_count": 28,
   "id": "213a39ae-1242-463a-9fda-ae65e15831bb",
   "metadata": {},
   "outputs": [],
   "source": [
    "import plotly.express as px\n",
    "import numpy as np\n",
    "\n",
    "data = np.random.normal(size=100)\n",
    "\n",
    "fig = px.histogram(data, nbins=20)\n",
    "\n",
    "fig.write_image('ques5.png')"
   ]
  },
  {
   "cell_type": "markdown",
   "id": "17bc1c9d-c069-4e5f-8e60-df70e87d2c31",
   "metadata": {},
   "source": [
    "<img src=\"ques5.png\" alt=\"ques5.png\">"
   ]
  }
 ],
 "metadata": {
  "kernelspec": {
   "display_name": "Python 3 (ipykernel)",
   "language": "python",
   "name": "python3"
  },
  "language_info": {
   "codemirror_mode": {
    "name": "ipython",
    "version": 3
   },
   "file_extension": ".py",
   "mimetype": "text/x-python",
   "name": "python",
   "nbconvert_exporter": "python",
   "pygments_lexer": "ipython3",
   "version": "3.10.8"
  }
 },
 "nbformat": 4,
 "nbformat_minor": 5
}
